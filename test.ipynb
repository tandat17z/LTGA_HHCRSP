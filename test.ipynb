{
 "cells": [
  {
   "cell_type": "code",
   "execution_count": 24,
   "metadata": {},
   "outputs": [
    {
     "name": "stdout",
     "output_type": "stream",
     "text": [
      "--------------DESCRIPTION HHCRSP-----------------------------------\n",
      "n = 5, v = 4  \n",
      "matrixQ: [[1, 1, 1, 0], [1, 1, 1, 0], [1, 1, 1, 1], [0, 1, 1, 1], [1, 0, 1, 1]]\n",
      "matrixD: [[0, 5, 7, 2, 8], [10, 0, 5, 5, 7], [4, 7, 0, 1, 3], [7, 2, 3, 0, 6], [1, 5, 10, 3, 0]]\n",
      "--------\n",
      "activity 1: 1 2 3 \n",
      "\t p = 3  \n",
      "\t s = 4 --> e = 5 \n",
      "activity 2: 1 2 3 \n",
      "\t p = 3  \n",
      "\t s = 19 --> e = 20 \n",
      "activity 3: 1 2 3 4 \n",
      "\t p = 2  \n",
      "\t s = 19 --> e = 21 \n",
      "activity 4: 2 3 4 \n",
      "\t p = 8  \n",
      "\t s = 18 --> e = 20 \n",
      "activity 5: 1 3 4 \n",
      "\t p = 4  \n",
      "\t s = 2 --> e = 6 \n",
      "--------\n",
      "shift 1 -- u = 7 \n",
      "shift 2 -- u = 2 \n",
      "shift 3 -- u = 18 \n",
      "shift 4 -- u = 10 \n",
      "weights: \n",
      "\t w_x = 0.500000 , w_y = 0.250000 , w_z = 0.250000 , w_dependency = 0.500000\n",
      "------------------------------------------------------------------\n",
      "------------------------------------------------------------------\n",
      "------------------------------------------------------------------\n",
      "runNumber: 0\n",
      "population:\n",
      "\t(2.66, 2.61, 1.72, 2.45, 2.15) = 11.5869353778\n",
      "\t(1.33, 2.64, 1.79, 2.00, 2.24) = 9.99716240603\n",
      "\t(2.04, 1.97, 1.58, 2.17, 1.03) = 8.79206976507\n",
      "\t(1.32, 1.32, 1.13, 2.42, 2.44) = 8.63151580409\n",
      "\t(2.15, 1.43, 2.03, 1.44, 2.96) = 10.0118651751\n",
      "\t(1.67, 2.96, 1.99, 2.90, 2.24) = 11.7735652156\n",
      "\t(2.18, 1.37, 2.01, 1.86, 2.92) = 10.3407761069\n",
      "\t(2.00, 2.42, 2.27, 1.22, 1.33) = 9.23632019752\n",
      "\t(2.46, 1.76, 2.41, 1.63, 1.90) = 10.1600842588\n",
      "\t(1.99, 2.97, 1.39, 2.05, 2.34) = 10.7439897364\n",
      "0 {'LS_evaluations': 0, 'minSubProblem': 0, 'LS_iterations': 0, 'evaluations': 0, 'success': 1}\n"
     ]
    }
   ],
   "source": [
    "!python main.py experiments/general.cfg problems/hhcrsp/hhcrsp_5_4.cfg variants/hhcrsp.cfg -v"
   ]
  },
  {
   "cell_type": "code",
   "execution_count": null,
   "metadata": {},
   "outputs": [],
   "source": []
  },
  {
   "cell_type": "code",
   "execution_count": null,
   "metadata": {},
   "outputs": [],
   "source": []
  },
  {
   "cell_type": "code",
   "execution_count": null,
   "metadata": {},
   "outputs": [],
   "source": []
  }
 ],
 "metadata": {
  "kernelspec": {
   "display_name": "Python 3",
   "language": "python",
   "name": "python3"
  },
  "language_info": {
   "codemirror_mode": {
    "name": "ipython",
    "version": 2
   },
   "file_extension": ".py",
   "mimetype": "text/x-python",
   "name": "python",
   "nbconvert_exporter": "python",
   "pygments_lexer": "ipython2",
   "version": "2.7.16"
  }
 },
 "nbformat": 4,
 "nbformat_minor": 2
}
