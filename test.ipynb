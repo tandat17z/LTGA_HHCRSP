{
 "cells": [
  {
   "cell_type": "code",
   "execution_count": 22,
   "metadata": {},
   "outputs": [
    {
     "name": "stdout",
     "output_type": "stream",
     "text": [
      "--------------DESCRIPTION HHCRSP-----------------------------------\n",
      "n = 5, v = 4  \n",
      "matrixQ: [[1, 0, 1, 1], [1, 1, 1, 0], [0, 1, 1, 0], [0, 1, 1, 1], [1, 0, 0, 1]]\n",
      "matrixD: [[0, 4, 6, 6, 6], [7, 0, 7, 7, 6], [1, 6, 0, 1, 3], [6, 2, 1, 0, 2], [2, 7, 7, 7, 0]]\n",
      "--------\n",
      "activity 1: 1 3 4 \n",
      "\t p = 1  \n",
      "\t s = 16 --> e = 26 \n",
      "activity 2: 1 2 3 \n",
      "\t p = 8  \n",
      "\t s = 4 --> e = 6 \n",
      "activity 3: 2 3 \n",
      "\t p = 2  \n",
      "\t s = 10 --> e = 19 \n",
      "activity 4: 2 3 4 \n",
      "\t p = 7  \n",
      "\t s = 8 --> e = 13 \n",
      "activity 5: 1 4 \n",
      "\t p = 6  \n",
      "\t s = 9 --> e = 13 \n",
      "--------\n",
      "shift 1 -- u = 9 \n",
      "shift 2 -- u = 20 \n",
      "shift 3 -- u = 23 \n",
      "shift 4 -- u = 15 \n",
      "weights: \n",
      "\t w_x = 0.500000 , w_y = 0.250000 , w_z = 0.250000 , w_dependency = 0.500000\n",
      "------------------------------------------------------------------\n",
      "------------------------------------------------------------------\n",
      "------------------------------------------------------------------\n"
     ]
    }
   ],
   "source": [
    "!python main.py experiments/general.cfg problems/hhcrsp/hhcrsp_5_4.cfg variants/hhcrsp.cfg -v"
   ]
  },
  {
   "cell_type": "code",
   "execution_count": null,
   "metadata": {},
   "outputs": [],
   "source": []
  },
  {
   "cell_type": "code",
   "execution_count": null,
   "metadata": {},
   "outputs": [],
   "source": []
  },
  {
   "cell_type": "code",
   "execution_count": null,
   "metadata": {},
   "outputs": [],
   "source": []
  }
 ],
 "metadata": {
  "kernelspec": {
   "display_name": "Python 3",
   "language": "python",
   "name": "python3"
  },
  "language_info": {
   "codemirror_mode": {
    "name": "ipython",
    "version": 2
   },
   "file_extension": ".py",
   "mimetype": "text/x-python",
   "name": "python",
   "nbconvert_exporter": "python",
   "pygments_lexer": "ipython2",
   "version": "2.7.16"
  }
 },
 "nbformat": 4,
 "nbformat_minor": 2
}
