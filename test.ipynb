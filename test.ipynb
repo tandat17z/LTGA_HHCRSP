{
 "cells": [
  {
   "cell_type": "code",
   "execution_count": 19,
   "metadata": {},
   "outputs": [
    {
     "name": "stdout",
     "output_type": "stream",
     "text": [
      "runNumber: 0\n",
      "population:\n",
      "\t(2.96, 2.18, 2.72) = 7.85432429889\n",
      "\t(1.58, 1.57, 1.83) = 4.97805890481\n",
      "\t(1.94, 1.22, 3.00) = 6.16347931701\n",
      "\t(1.81, 2.22, 2.07) = 6.10166312549\n",
      "\t(1.02, 2.78, 1.27) = 5.07171602221\n",
      "\t(2.17, 1.10, 2.52) = 5.79246231111\n",
      "\t(1.28, 1.87, 2.88) = 6.02596272505\n",
      "\t(2.08, 1.32, 2.11) = 5.5157346222\n",
      "\t(1.61, 1.65, 1.04) = 4.30009142836\n",
      "\t(1.84, 2.94, 2.50) = 7.27897226564\n",
      "('--> tree', [(0,), (1,), (2,), (0, 1)])\n",
      "--->>> Schedule --------------------------\n",
      "[(3, 0.2710586776435733)]\n",
      "[(1, 0.08293104307752186), (2, 0.7788278109579658)]\n",
      "------------------------------------------\n",
      "\n",
      "0 {'success': 1, 'LS_evaluations': 0, 'minSubProblem': 0, 'LS_iterations': 0, 'bestFitness': '(2.08, 2.78, 1.27) = 9.5', 'evaluations': 1}\n"
     ]
    }
   ],
   "source": [
    "!python main.py experiments/general.cfg problems/hhcrsp/hhcrsp_5_4.cfg variants/hhcrsp.cfg -v"
   ]
  },
  {
   "cell_type": "code",
   "execution_count": null,
   "metadata": {},
   "outputs": [],
   "source": []
  }
 ],
 "metadata": {
  "kernelspec": {
   "display_name": "Python 3",
   "language": "python",
   "name": "python3"
  },
  "language_info": {
   "codemirror_mode": {
    "name": "ipython",
    "version": 2
   },
   "file_extension": ".py",
   "mimetype": "text/x-python",
   "name": "python",
   "nbconvert_exporter": "python",
   "pygments_lexer": "ipython2",
   "version": "2.7.16"
  }
 },
 "nbformat": 4,
 "nbformat_minor": 2
}
