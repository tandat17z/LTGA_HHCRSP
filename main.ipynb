{
 "cells": [
  {
   "cell_type": "code",
   "execution_count": null,
   "metadata": {},
   "outputs": [
    {
     "name": "stdout",
     "output_type": "stream",
     "text": [
      "runNumber: 0\n",
      "0 {'success': 0, 'LS_evaluations': 0, 'minSubProblem': 0, 'LS_iterations': 0, 'bestFitness': '(4.85, 4.88, 3.39, 1.99, 2.24) = -4.5', 'evaluations': 200}\n",
      "runNumber: 1\n",
      "1 {'success': 0, 'LS_evaluations': 0, 'minSubProblem': 0, 'LS_iterations': 0, 'bestFitness': '(4.88, 4.42, 2.78, 1.08, 3.09) = -4.75', 'evaluations': 200}\n",
      "runNumber: 2\n",
      "2 {'success': 0, 'LS_evaluations': 0, 'minSubProblem': 0, 'LS_iterations': 0, 'bestFitness': '(4.20, 4.67, 3.20, 1.39, 2.76) = -4.5', 'evaluations': 200}\n",
      "runNumber: 3\n",
      "3 {'success': 0, 'LS_evaluations': 0, 'minSubProblem': 0, 'LS_iterations': 0, 'bestFitness': '(4.90, 1.44, 4.00, 4.71, 2.26) = -4.75', 'evaluations': 200}\n",
      "runNumber: 4\n",
      "4 {'success': 0, 'LS_evaluations': 0, 'minSubProblem': 0, 'LS_iterations': 0, 'bestFitness': '(4.84, 4.83, 3.52, 1.30, 2.49) = -4.5', 'evaluations': 200}\n",
      "runNumber: 5\n",
      "5 {'success': 0, 'LS_evaluations': 0, 'minSubProblem': 0, 'LS_iterations': 0, 'bestFitness': '(4.97, 4.49, 3.72, 1.35, 2.29) = -4.5', 'evaluations': 200}\n",
      "runNumber: 6\n",
      "6 {'success': 0, 'LS_evaluations': 0, 'minSubProblem': 0, 'LS_iterations': 0, 'bestFitness': '(4.55, 4.57, 2.91, 1.02, 3.16) = -4.75', 'evaluations': 200}\n",
      "runNumber: 7\n",
      "7 {'success': 0, 'LS_evaluations': 0, 'minSubProblem': 0, 'LS_iterations': 0, 'bestFitness': '(4.77, 1.15, 3.39, 4.30, 2.28) = -4.75', 'evaluations': 200}\n",
      "runNumber: 8\n",
      "8 {'success': 0, 'LS_evaluations': 0, 'minSubProblem': 0, 'LS_iterations': 0, 'bestFitness': '(4.17, 4.87, 2.40, 1.12, 3.61) = -4.75', 'evaluations': 200}\n",
      "runNumber: 9\n",
      "9 {'success': 0, 'LS_evaluations': 0, 'minSubProblem': 0, 'LS_iterations': 0, 'bestFitness': '(4.35, 4.52, 3.67, 1.09, 2.57) = -4.5', 'evaluations': 200}\n",
      "{'success': (0.0, 0)}\n"
     ]
    }
   ],
   "source": [
    "!python main.py problems/hhcrsp_5_4.cfg -i 0 -v"
   ]
  },
  {
   "cell_type": "code",
   "execution_count": null,
   "metadata": {},
   "outputs": [],
   "source": []
  }
 ],
 "metadata": {
  "kernelspec": {
   "display_name": "Python 3",
   "language": "python",
   "name": "python3"
  },
  "language_info": {
   "codemirror_mode": {
    "name": "ipython",
    "version": 2
   },
   "file_extension": ".py",
   "mimetype": "text/x-python",
   "name": "python",
   "nbconvert_exporter": "python",
   "pygments_lexer": "ipython2",
   "version": "2.7.16"
  }
 },
 "nbformat": 4,
 "nbformat_minor": 2
}
